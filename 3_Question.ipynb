{
  "nbformat": 4,
  "nbformat_minor": 0,
  "metadata": {
    "colab": {
      "provenance": []
    },
    "kernelspec": {
      "name": "python3",
      "display_name": "Python 3"
    },
    "language_info": {
      "name": "python"
    }
  },
  "cells": [
    {
      "cell_type": "markdown",
      "source": [
        "Loggers to display evaluation results, where applicable\n"
      ],
      "metadata": {
        "id": "dmGUcq82gIXE"
      }
    },
    {
      "cell_type": "code",
      "source": [
        "import random\n",
        "import logging"
      ],
      "metadata": {
        "id": "qjsbWG8JhBep"
      },
      "execution_count": 1,
      "outputs": []
    },
    {
      "cell_type": "code",
      "source": [
        "logging.basicConfig(level=logging.INFO, format=\"%(asctime)s - %(levelname)s - %(message)s\")"
      ],
      "metadata": {
        "id": "GpEkGXkWhggG"
      },
      "execution_count": 2,
      "outputs": []
    },
    {
      "cell_type": "code",
      "source": [
        "DOCUMENTS = [\n",
        "    \"NLP is used in healthcare, e-commerce, and education.\",\n",
        "    \"Applications include chatbots, virtual assistants, and sentiment analysis.\",\n",
        "    \"NLP helps improve customer experience by analyzing feedback.\"\n",
        "]"
      ],
      "metadata": {
        "id": "Tb3bUK6vhkDW"
      },
      "execution_count": 3,
      "outputs": []
    },
    {
      "cell_type": "code",
      "source": [
        "QUERIES = [\"What are the applications of NLP?\"]"
      ],
      "metadata": {
        "id": "C_YnuX-5hprV"
      },
      "execution_count": 4,
      "outputs": []
    },
    {
      "cell_type": "code",
      "source": [
        "def retrieve_documents(query, top_k=2):\n",
        "    logging.info(f\"Retrieving documents for query: '{query}'\")\n",
        "    retrieved = random.sample(DOCUMENTS, top_k)\n",
        "    logging.info(f\"Retrieved Documents: {retrieved}\")\n",
        "    return retrieved"
      ],
      "metadata": {
        "id": "84n2arqBhufL"
      },
      "execution_count": 5,
      "outputs": []
    },
    {
      "cell_type": "code",
      "source": [
        "def generate_response(query, documents):\n",
        "    response = f\"Based on the documents: {' '.join(documents)}\"\n",
        "    logging.info(f\"Generated Response: {response}\")\n",
        "    return response"
      ],
      "metadata": {
        "id": "ZOV60lllhzNf"
      },
      "execution_count": 6,
      "outputs": []
    },
    {
      "cell_type": "code",
      "source": [
        "def evaluate_faithfulness(response, documents):\n",
        "    response_words = set(response.split())\n",
        "    document_words = set(\" \".join(documents).split())\n",
        "    overlap = len(response_words & document_words)\n",
        "    faithfulness_score = overlap / len(document_words) if document_words else 0\n",
        "    logging.info(f\"Faithfulness Score: {round(faithfulness_score, 2)}\")\n",
        "    return round(faithfulness_score, 2)"
      ],
      "metadata": {
        "id": "Rggi_bmmh3p1"
      },
      "execution_count": 7,
      "outputs": []
    },
    {
      "cell_type": "code",
      "source": [
        "def run_rag_pipeline(query):\n",
        "    logging.info(f\"Running RAG pipeline for query: '{query}'\")\n",
        "    documents = retrieve_documents(query)\n",
        "    response = generate_response(query, documents)\n",
        "    faithfulness_score = evaluate_faithfulness(response, documents)\n",
        "    logging.info(f\"Pipeline Completed for Query: '{query}'\\n\")\n",
        "    return {\n",
        "        \"query\": query,\n",
        "        \"documents\": documents,\n",
        "        \"response\": response,\n",
        "        \"faithfulness_score\": faithfulness_score\n",
        "    }"
      ],
      "metadata": {
        "id": "aXkF2hHxh8Ah"
      },
      "execution_count": 8,
      "outputs": []
    },
    {
      "cell_type": "code",
      "source": [
        "results = []\n",
        "for query in QUERIES:\n",
        "    results.append(run_rag_pipeline(query))"
      ],
      "metadata": {
        "id": "NO88Gi0hiAm3"
      },
      "execution_count": 9,
      "outputs": []
    },
    {
      "cell_type": "code",
      "source": [
        "for result in results:\n",
        "    print(f\"Query: {result['query']}\")\n",
        "    print(f\"Retrieved Documents: {result['documents']}\")\n",
        "    print(f\"Generated Response: {result['response']}\")\n",
        "    print(f\"Faithfulness Score: {result['faithfulness_score']}\")"
      ],
      "metadata": {
        "colab": {
          "base_uri": "https://localhost:8080/"
        },
        "id": "gA6DR6IHiFpk",
        "outputId": "358f261b-ef4c-4d15-b88e-0fe2ee624a41"
      },
      "execution_count": 10,
      "outputs": [
        {
          "output_type": "stream",
          "name": "stdout",
          "text": [
            "Query: What are the applications of NLP?\n",
            "Retrieved Documents: ['NLP is used in healthcare, e-commerce, and education.', 'Applications include chatbots, virtual assistants, and sentiment analysis.']\n",
            "Generated Response: Based on the documents: NLP is used in healthcare, e-commerce, and education. Applications include chatbots, virtual assistants, and sentiment analysis.\n",
            "Faithfulness Score: 1.0\n"
          ]
        }
      ]
    },
    {
      "cell_type": "code",
      "source": [],
      "metadata": {
        "id": "haZpWSIAiJlU"
      },
      "execution_count": null,
      "outputs": []
    }
  ]
}