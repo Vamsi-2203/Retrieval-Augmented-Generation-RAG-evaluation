{
  "nbformat": 4,
  "nbformat_minor": 0,
  "metadata": {
    "colab": {
      "provenance": []
    },
    "kernelspec": {
      "name": "python3",
      "display_name": "Python 3"
    },
    "language_info": {
      "name": "python"
    }
  },
  "cells": [
    {
      "cell_type": "code",
      "execution_count": 14,
      "metadata": {
        "id": "WVcMxT22y6Dl"
      },
      "outputs": [],
      "source": [
        "# Step 1: Import Libraries\n",
        "import random\n",
        "\n",
        "# Here Sample Dataset\n",
        "DOCUMENTS = [\n",
        "    \"Natural Language Processing (NLP) is used in chatbots, translation, and sentiment analysis.\",\n",
        "    \"Applications of NLP include healthcare, e-commerce, and education.\",\n",
        "    \"NLP powers virtual assistants like Siri and Alexa.\",\n",
        "    \"NLP is useful for analyzing customer feedback and improving user experience.\"\n",
        "]\n",
        "\n",
        "\n"
      ]
    },
    {
      "cell_type": "code",
      "source": [
        "QUERIES = [\n",
        "    \"What are the applications of NLP?\",\n",
        "    \"How is NLP utilized in various industries?\"\n",
        "]"
      ],
      "metadata": {
        "id": "3XOrUyrRz43l"
      },
      "execution_count": 15,
      "outputs": []
    },
    {
      "cell_type": "code",
      "source": [
        "# Step 2: Retrieve Documents\n",
        "def retrieve_documents(query, top_k=2):\n",
        "    return random.sample(DOCUMENTS, top_k)\n",
        "\n"
      ],
      "metadata": {
        "id": "Y3ZZh56CzOQ1"
      },
      "execution_count": 16,
      "outputs": []
    },
    {
      "cell_type": "code",
      "source": [
        "# Step 3: Generate Response\n",
        "def generate_response(query, documents):\n",
        "    return f\"Based on the documents, NLP applications include: {' '.join(documents)}\""
      ],
      "metadata": {
        "id": "TQpZDJ9DzZta"
      },
      "execution_count": 17,
      "outputs": []
    },
    {
      "cell_type": "code",
      "source": [
        "# Evaluate Faithfulness\n",
        "def evaluate_faithfulness(response, documents):\n",
        "    response_words = set(response.split())\n",
        "    document_words = set(\" \".join(documents).split())\n",
        "    overlap = len(response_words & document_words)\n",
        "    return overlap / len(document_words) if document_words else 0"
      ],
      "metadata": {
        "id": "wcB9PO0LzeeT"
      },
      "execution_count": 18,
      "outputs": []
    },
    {
      "cell_type": "code",
      "source": [
        "# Pipeline\n",
        "def run_rag(query):\n",
        "    documents = retrieve_documents(query)\n",
        "    response = generate_response(query, documents)\n",
        "    faithfulness_score = evaluate_faithfulness(response, documents)\n",
        "    return {\"query\": query, \"documents\": documents, \"response\": response, \"faithfulness_score\": round(faithfulness_score, 2)}"
      ],
      "metadata": {
        "id": "Y1C-SYZ5zh3M"
      },
      "execution_count": 19,
      "outputs": []
    },
    {
      "cell_type": "code",
      "source": [
        "# Evaluate Queries\n",
        "for query in QUERIES:\n",
        "    result = run_rag(query)\n",
        "    print(f\"Query: {result['query']}\")\n",
        "    print(f\"Retrieved Documents: {result['documents']}\")\n",
        "    print(f\"Generated Response: {result['response']}\")\n",
        "    print(f\"Faithfulness Score: {result['faithfulness_score']}\")\n",
        "    print(\"-\" * 50)"
      ],
      "metadata": {
        "colab": {
          "base_uri": "https://localhost:8080/"
        },
        "id": "s3gBzLpzzqD-",
        "outputId": "b54b4d9c-753f-4432-f57c-d3836080c979"
      },
      "execution_count": 20,
      "outputs": [
        {
          "output_type": "stream",
          "name": "stdout",
          "text": [
            "Query: What are the applications of NLP?\n",
            "Retrieved Documents: ['Natural Language Processing (NLP) is used in chatbots, translation, and sentiment analysis.', 'Applications of NLP include healthcare, e-commerce, and education.']\n",
            "Generated Response: Based on the documents, NLP applications include: Natural Language Processing (NLP) is used in chatbots, translation, and sentiment analysis. Applications of NLP include healthcare, e-commerce, and education.\n",
            "Faithfulness Score: 1.0\n",
            "--------------------------------------------------\n",
            "Query: How is NLP utilized in various industries?\n",
            "Retrieved Documents: ['NLP powers virtual assistants like Siri and Alexa.', 'NLP is useful for analyzing customer feedback and improving user experience.']\n",
            "Generated Response: Based on the documents, NLP applications include: NLP powers virtual assistants like Siri and Alexa. NLP is useful for analyzing customer feedback and improving user experience.\n",
            "Faithfulness Score: 1.0\n",
            "--------------------------------------------------\n"
          ]
        }
      ]
    },
    {
      "cell_type": "code",
      "source": [],
      "metadata": {
        "id": "R6-sv5wBzs4Z"
      },
      "execution_count": 20,
      "outputs": []
    }
  ]
}